{
 "cells": [
  {
   "cell_type": "markdown",
   "metadata": {},
   "source": [
    "## *PyTorch para Deep Learning*\n",
    "\n",
    "O código abaixo é baseado no curso/livro on-line \"Zero to Mastery Learn PyTorch for Deep Learning\", disponível em <https://www.learnpytorch.io/>"
   ]
  },
  {
   "cell_type": "markdown",
   "metadata": {},
   "source": [
    "## 01. PyTorch Workflow Fundamentals"
   ]
  },
  {
   "cell_type": "code",
   "execution_count": 1,
   "metadata": {},
   "outputs": [],
   "source": [
    "# dicionário para guardar o processo de trabalho para a criação de um modelo de ML, \n",
    "# usado como uma referência para o que será feito ao longo desse processo\n",
    "\n",
    "what_we_are_covering = { 1: \"data (prepare and load)\",\n",
    "             2: \"build model\",\n",
    "             3: \"fitting the model to data (training)\",\n",
    "             4: \"making predictions and evaluating a model (inference)\",\n",
    "             5: \"saving and loading a model\",\n",
    "             6: \"putting it all together\"          \n",
    "}"
   ]
  },
  {
   "cell_type": "code",
   "execution_count": 2,
   "metadata": {},
   "outputs": [
    {
     "data": {
      "text/plain": [
       "'2.5.1+cu124'"
      ]
     },
     "execution_count": 2,
     "metadata": {},
     "output_type": "execute_result"
    }
   ],
   "source": [
    "# importação de torch, torch.nn e matplotlib\n",
    "# segundo o livro: \"nn stands for neural network and this package contains the building blocks for creating neural networks in PyTorch\"\n",
    "\n",
    "import torch\n",
    "from torch import nn\n",
    "import matplotlib.pyplot as plt\n",
    "import torch.version\n",
    "\n",
    "# Para checar a versão do Pytorch\n",
    "torch.__version__"
   ]
  },
  {
   "cell_type": "code",
   "execution_count": 4,
   "metadata": {},
   "outputs": [
    {
     "data": {
      "text/plain": [
       "(tensor([[0.0000],\n",
       "         [0.0200],\n",
       "         [0.0400],\n",
       "         [0.0600],\n",
       "         [0.0800],\n",
       "         [0.1000],\n",
       "         [0.1200],\n",
       "         [0.1400],\n",
       "         [0.1600],\n",
       "         [0.1800]]),\n",
       " tensor([[0.3000],\n",
       "         [0.3140],\n",
       "         [0.3280],\n",
       "         [0.3420],\n",
       "         [0.3560],\n",
       "         [0.3700],\n",
       "         [0.3840],\n",
       "         [0.3980],\n",
       "         [0.4120],\n",
       "         [0.4260]]))"
      ]
     },
     "execution_count": 4,
     "metadata": {},
     "output_type": "execute_result"
    }
   ],
   "source": [
    "# segundo o livro:\n",
    "\n",
    "# \"Machine learning is a game of two parts:\n",
    "# Turn your data, whatever it is, into numbers (a representation).\n",
    "# Pick or build a model to learn the representation as best as possible.\"\n",
    "\n",
    "# diante disso, cria-se dados simples para a partir deles montar um modelo de *regressão linear*\n",
    "# ou seja, eu tenho os dados e vou fazer com que os PARÂMETROS (não os dados/entrada, pois isso é impossível)\n",
    "# do modelo sejam alterados para melhor representar o padrão presente ali\n",
    "\n",
    "# crio parâmetros conhecidos - weight * x + bias (ou a * x + b)\n",
    "weight = 0.7\n",
    "bias = 0.3\n",
    "\n",
    "# crio os dados para a simulação de uma conjunto de dados\n",
    "start = 0\n",
    "end = 1\n",
    "step = 0.02 # ou seja, o meu conjunto de dados tem 50 números\n",
    "X = torch.arange(start, end, step).unsqueeze(dim=1) # X representa a entrada (50 números)/características dos dados/features\n",
    "y = weight * X + bias # y representa a saída original que eu vou tentar prever, é o rótulo/label que mostra qual é o resultado dos dados de entrada\n",
    "\n",
    "X[:10], y[:10]"
   ]
  }
 ],
 "metadata": {
  "kernelspec": {
   "display_name": "my_venv",
   "language": "python",
   "name": "python3"
  },
  "language_info": {
   "codemirror_mode": {
    "name": "ipython",
    "version": 3
   },
   "file_extension": ".py",
   "mimetype": "text/x-python",
   "name": "python",
   "nbconvert_exporter": "python",
   "pygments_lexer": "ipython3",
   "version": "3.12.4"
  }
 },
 "nbformat": 4,
 "nbformat_minor": 2
}
